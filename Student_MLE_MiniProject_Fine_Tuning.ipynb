{
  "nbformat": 4,
  "nbformat_minor": 0,
  "metadata": {
    "colab": {
      "provenance": []
    },
    "kernelspec": {
      "name": "python3",
      "display_name": "Python 3"
    },
    "language_info": {
      "name": "python"
    }
  },
  "cells": [
    {
      "cell_type": "markdown",
      "source": [
        "# Mini Project: Transfer Learning with Keras\n",
        "\n",
        "Transfer learning is a machine learning technique where a model trained on one task is used as a starting point to solve a different but related task. Instead of training a model from scratch, transfer learning leverages the knowledge learned from the source task and applies it to the target task. This approach is especially useful when the target task has limited data or computational resources.\n",
        "\n",
        "In transfer learning, the pre-trained model, also known as the \"base model\" or \"source model,\" is typically trained on a large dataset and a more general problem (e.g., image classification on ImageNet, a vast dataset with millions of labeled images). The knowledge learned by the base model in the form of feature representations and weights captures common patterns and features in the data.\n",
        "\n",
        "To perform transfer learning, the following steps are commonly followed:\n",
        "\n",
        "1. Pre-training: The base model is trained on a source task using a large dataset, which can take a considerable amount of time and computational resources.\n",
        "\n",
        "2. Feature Extraction: After pre-training, the base model is used as a feature extractor. The last few layers (classifier layers) of the model are discarded, and the remaining layers (feature extraction layers) are retained. These layers serve as feature extractors, producing meaningful representations of the data.\n",
        "\n",
        "3. Fine-tuning: The feature extraction layers and sometimes some of the earlier layers are connected to a new set of layers, often called the \"classifier layers\" or \"task-specific layers.\" These layers are randomly initialized, and the model is trained on the target task with a smaller dataset. The weights of the base model can be frozen during fine-tuning, or they can be allowed to be updated with a lower learning rate to fine-tune the model for the target task.\n",
        "\n",
        "Transfer learning has several benefits:\n",
        "\n",
        "1. Reduced training time and resource requirements: Since the base model has already learned generic features, transfer learning can save time and resources compared to training a model from scratch.\n",
        "\n",
        "2. Improved generalization: Transfer learning helps the model generalize better to the target task, especially when the target dataset is small and dissimilar from the source dataset.\n",
        "\n",
        "3. Better performance: By starting from a model that is already trained on a large dataset, transfer learning can lead to better performance on the target task, especially in scenarios with limited data.\n",
        "\n",
        "4. Effective feature extraction: The feature extraction layers of the pre-trained model can serve as powerful feature extractors for different tasks, even when the task domains differ.\n",
        "\n",
        "Transfer learning is commonly used in various domains, including computer vision, natural language processing (NLP), and speech recognition, where pre-trained models are fine-tuned for specific applications like object detection, sentiment analysis, or speech-to-text.\n",
        "\n",
        "In this mini-project you will perform fine-tuning using Keras with a pre-trained VGG16 model on the CIFAR-10 dataset."
      ],
      "metadata": {
        "id": "fyXucUekO19i"
      }
    },
    {
      "cell_type": "markdown",
      "source": [
        "First, import all the libraries you'll need."
      ],
      "metadata": {
        "id": "TYuE9O6I2uRY"
      }
    },
    {
      "cell_type": "code",
      "execution_count": 1,
      "metadata": {
        "id": "kLWR1DfQPakn"
      },
      "outputs": [],
      "source": [
        "import numpy as np\n",
        "import tensorflow as tf\n",
        "from tensorflow.keras.datasets import cifar10\n",
        "from tensorflow.keras.applications import VGG16\n",
        "from tensorflow.keras.models import Model\n",
        "from tensorflow.keras.layers import Dense, GlobalAveragePooling2D\n",
        "from tensorflow.keras.optimizers import Adam\n",
        "from tensorflow.keras.utils import to_categorical\n",
        "from sklearn.model_selection import train_test_split"
      ]
    },
    {
      "cell_type": "markdown",
      "source": [
        "The CIFAR-10 dataset is a widely used benchmark dataset in the field of computer vision and machine learning. It stands for the \"Canadian Institute for Advanced Research 10\" dataset. CIFAR-10 was created by researchers at the CIFAR institute and was originally introduced as part of the Neural Information Processing Systems (NIPS) 2009 competition.\n",
        "\n",
        "The dataset consists of 60,000 color images, each of size 32x32 pixels, belonging to ten different classes. Each class contains 6,000 images. The ten classes in CIFAR-10 are:\n",
        "\n",
        "1. Airplane\n",
        "2. Automobile\n",
        "3. Bird\n",
        "4. Cat\n",
        "5. Deer\n",
        "6. Dog\n",
        "7. Frog\n",
        "8. Horse\n",
        "9. Ship\n",
        "10. Truck\n",
        "\n",
        "The images are evenly distributed across the classes, making CIFAR-10 a balanced dataset. The dataset is divided into two sets: a training set and a test set. The training set contains 50,000 images, while the test set contains the remaining 10,000 images.\n",
        "\n",
        "CIFAR-10 is often used for tasks such as image classification, object recognition, and transfer learning experiments. The relatively small size of the images and the variety of classes make it a challenging dataset for training machine learning models, especially deep neural networks. It also serves as a good dataset for teaching and learning purposes due to its manageable size and straightforward class labels."
      ],
      "metadata": {
        "id": "TEB60YsX2yUf"
      }
    },
    {
      "cell_type": "markdown",
      "source": [
        "Here are your tasks:\n",
        "\n",
        "1. Load the CIFAR-10 dataset after referencing the documentation [here](https://keras.io/api/datasets/cifar10/).\n",
        "2. Normalize the pixel values so they're all in the range [0, 1].\n",
        "3. Apply One Hot Encoding to the train and test labels using the [to_categorical](https://www.tensorflow.org/api_docs/python/tf/keras/utils/to_categorical) function.\n",
        "4. Further split the the training data into training and validation sets using [train_test_split](https://scikit-learn.org/stable/modules/generated/sklearn.model_selection.train_test_split.html). Use only 10% of the data for validation.  "
      ],
      "metadata": {
        "id": "Gp0MVIbiFonL"
      }
    },
    {
      "cell_type": "code",
      "source": [
        "# Load the CIFAR-10 dataset\n",
        "(x_train, y_train), (x_test, y_test) = tf.keras.datasets.cifar10.load_data()\n",
        "assert x_train.shape == (50000, 32, 32, 3)\n",
        "assert x_test.shape == (10000, 32, 32, 3)\n",
        "assert y_train.shape == (50000, 1)\n",
        "assert y_test.shape == (10000, 1)\n",
        "print('data loaded...')"
      ],
      "metadata": {
        "id": "ndNbwjaaSvs-",
        "colab": {
          "base_uri": "https://localhost:8080/"
        },
        "outputId": "bff4dd4a-aeff-40fa-c852-f0d056875d69"
      },
      "execution_count": 2,
      "outputs": [
        {
          "output_type": "stream",
          "name": "stdout",
          "text": [
            "Downloading data from https://www.cs.toronto.edu/~kriz/cifar-10-python.tar.gz\n",
            "170498071/170498071 [==============================] - 3s 0us/step\n",
            "data loaded...\n"
          ]
        }
      ]
    },
    {
      "cell_type": "code",
      "source": [
        "# Normalize the pixel values to [0, 1]\n",
        "x_train = x_train.astype('float32') / 255.0\n",
        "x_test = x_test.astype('float32') / 255.0\n",
        "print('values normalized...')"
      ],
      "metadata": {
        "id": "8H6KUgh2SxxR",
        "colab": {
          "base_uri": "https://localhost:8080/"
        },
        "outputId": "fcc5220a-443d-4247-bc49-8c9412925814"
      },
      "execution_count": 3,
      "outputs": [
        {
          "output_type": "stream",
          "name": "stdout",
          "text": [
            "values normalized...\n"
          ]
        }
      ]
    },
    {
      "cell_type": "code",
      "source": [
        "# One-hot encode the labels\n",
        "y_train = to_categorical(y_train, 10)\n",
        "y_test = to_categorical(y_test, 10)\n",
        "print('labels encoded...')"
      ],
      "metadata": {
        "id": "mWDW1ZLySz7K",
        "colab": {
          "base_uri": "https://localhost:8080/"
        },
        "outputId": "d4810e2c-f09f-4be1-c239-df9eb122558b"
      },
      "execution_count": 4,
      "outputs": [
        {
          "output_type": "stream",
          "name": "stdout",
          "text": [
            "labels encoded...\n"
          ]
        }
      ]
    },
    {
      "cell_type": "code",
      "source": [
        "# Split the data into training and validation sets\n",
        "x_train, x_val, y_train, y_val = train_test_split(x_train, y_train, test_size=0.1, random_state=1995)\n",
        "print('data split into training and validation sets...')\n",
        "print('Training set shape:', x_train.shape, y_train.shape)\n",
        "print('Validation set shape:', x_val.shape, y_val.shape)\n",
        "print('Test set shape:', x_test.shape, y_test.shape)"
      ],
      "metadata": {
        "id": "4y3zao91ndZB",
        "colab": {
          "base_uri": "https://localhost:8080/"
        },
        "outputId": "d96e1159-f6fa-424f-9ace-49977d3848b2"
      },
      "execution_count": 5,
      "outputs": [
        {
          "output_type": "stream",
          "name": "stdout",
          "text": [
            "data split into training and validation sets...\n",
            "Training set shape: (45000, 32, 32, 3) (45000, 10)\n",
            "Validation set shape: (5000, 32, 32, 3) (5000, 10)\n",
            "Test set shape: (10000, 32, 32, 3) (10000, 10)\n"
          ]
        }
      ]
    },
    {
      "cell_type": "markdown",
      "source": [
        "VGG16 (Visual Geometry Group 16) is a deep convolutional neural network architecture that was developed by the Visual Geometry Group at the University of Oxford. It was proposed by researchers Karen Simonyan and Andrew Zisserman in their paper titled \"Very Deep Convolutional Networks for Large-Scale Image Recognition,\" which was presented at the International Conference on Learning Representations (ICLR) in 2015.\n",
        "\n",
        "The VGG16 architecture gained significant popularity for its simplicity and effectiveness in image classification tasks. It was one of the pioneering models that demonstrated the power of deeper neural networks for visual recognition tasks.\n",
        "\n",
        "Key characteristics of the VGG16 architecture:\n",
        "\n",
        "1. Architecture: VGG16 consists of a total of 16 layers, hence the name \"16.\" These layers are stacked one after another, forming a deep neural network.\n",
        "\n",
        "2. Convolutional Layers: The main building blocks of VGG16 are the convolutional layers. It primarily uses 3x3 convolutional filters throughout the network, which allows it to capture local features effectively.\n",
        "\n",
        "3. Max Pooling: After each set of convolutional layers, VGG16 applies max-pooling layers with 2x2 filters and stride 2, which halves the spatial dimensions (width and height) of the feature maps and reduces the number of parameters.\n",
        "\n",
        "4. Fully Connected Layers: Towards the end of the network, VGG16 has fully connected layers that act as a classifier to make predictions based on the learned features.\n",
        "\n",
        "5. Activation Function: The network uses the Rectified Linear Unit (ReLU) activation function for all hidden layers, which helps with faster convergence during training.\n",
        "\n",
        "6. Number of Filters: The number of filters in each convolutional layer is relatively small compared to more recent architectures like ResNet or InceptionNet. However, stacking multiple layers allows VGG16 to learn complex hierarchical features.\n",
        "\n",
        "7. Output Layer: The output layer consists of 1000 units, corresponding to 1000 ImageNet classes. VGG16 was originally trained on the large-scale ImageNet dataset, which contains millions of images from 1000 different classes.\n",
        "\n",
        "VGG16 was instrumental in showing that increasing the depth of a neural network can significantly improve its performance on image recognition tasks. However, the main drawback of VGG16 is its high number of parameters, making it computationally expensive and memory-intensive to train. Despite this limitation, VGG16 remains an essential benchmark architecture and has paved the way for even deeper and more efficient models in the field of computer vision, such as ResNet, DenseNet, and EfficientNet."
      ],
      "metadata": {
        "id": "aiFJsxS5HPHW"
      }
    },
    {
      "cell_type": "markdown",
      "source": [
        "Here are your tasks:\n",
        "\n",
        "1. Load [VGG16](https://keras.io/api/applications/vgg/#vgg16-function) as a base model. Make sure to exclude the top layer.\n",
        "2. Freeze all the layers in the base model. We'll be using these weights as a feature extraction layer to forward to layers that are trainable."
      ],
      "metadata": {
        "id": "XJw9E1D9Q3tQ"
      }
    },
    {
      "cell_type": "code",
      "source": [
        "# Load the pre-trained VGG16 model (excluding the top classifier)\n",
        "base_model = VGG16(include_top=False, weights='imagenet', input_shape=(32, 32, 3))\n",
        "\n",
        "# Display a model summary to illustrate that all of the layers are currently trainable.\n",
        "base_model.summary()"
      ],
      "metadata": {
        "id": "bncm8oTonijm",
        "colab": {
          "base_uri": "https://localhost:8080/"
        },
        "outputId": "46167e3c-837c-437f-93b3-4b9edf541177"
      },
      "execution_count": 6,
      "outputs": [
        {
          "output_type": "stream",
          "name": "stdout",
          "text": [
            "Downloading data from https://storage.googleapis.com/tensorflow/keras-applications/vgg16/vgg16_weights_tf_dim_ordering_tf_kernels_notop.h5\n",
            "58889256/58889256 [==============================] - 0s 0us/step\n",
            "Model: \"vgg16\"\n",
            "_________________________________________________________________\n",
            " Layer (type)                Output Shape              Param #   \n",
            "=================================================================\n",
            " input_1 (InputLayer)        [(None, 32, 32, 3)]       0         \n",
            "                                                                 \n",
            " block1_conv1 (Conv2D)       (None, 32, 32, 64)        1792      \n",
            "                                                                 \n",
            " block1_conv2 (Conv2D)       (None, 32, 32, 64)        36928     \n",
            "                                                                 \n",
            " block1_pool (MaxPooling2D)  (None, 16, 16, 64)        0         \n",
            "                                                                 \n",
            " block2_conv1 (Conv2D)       (None, 16, 16, 128)       73856     \n",
            "                                                                 \n",
            " block2_conv2 (Conv2D)       (None, 16, 16, 128)       147584    \n",
            "                                                                 \n",
            " block2_pool (MaxPooling2D)  (None, 8, 8, 128)         0         \n",
            "                                                                 \n",
            " block3_conv1 (Conv2D)       (None, 8, 8, 256)         295168    \n",
            "                                                                 \n",
            " block3_conv2 (Conv2D)       (None, 8, 8, 256)         590080    \n",
            "                                                                 \n",
            " block3_conv3 (Conv2D)       (None, 8, 8, 256)         590080    \n",
            "                                                                 \n",
            " block3_pool (MaxPooling2D)  (None, 4, 4, 256)         0         \n",
            "                                                                 \n",
            " block4_conv1 (Conv2D)       (None, 4, 4, 512)         1180160   \n",
            "                                                                 \n",
            " block4_conv2 (Conv2D)       (None, 4, 4, 512)         2359808   \n",
            "                                                                 \n",
            " block4_conv3 (Conv2D)       (None, 4, 4, 512)         2359808   \n",
            "                                                                 \n",
            " block4_pool (MaxPooling2D)  (None, 2, 2, 512)         0         \n",
            "                                                                 \n",
            " block5_conv1 (Conv2D)       (None, 2, 2, 512)         2359808   \n",
            "                                                                 \n",
            " block5_conv2 (Conv2D)       (None, 2, 2, 512)         2359808   \n",
            "                                                                 \n",
            " block5_conv3 (Conv2D)       (None, 2, 2, 512)         2359808   \n",
            "                                                                 \n",
            " block5_pool (MaxPooling2D)  (None, 1, 1, 512)         0         \n",
            "                                                                 \n",
            "=================================================================\n",
            "Total params: 14714688 (56.13 MB)\n",
            "Trainable params: 14714688 (56.13 MB)\n",
            "Non-trainable params: 0 (0.00 Byte)\n",
            "_________________________________________________________________\n"
          ]
        }
      ]
    },
    {
      "cell_type": "code",
      "source": [
        "# Freeze the layers in the base model\n",
        "for layer in base_model.layers:\n",
        "    layer.trainable = False\n",
        "\n",
        "# Display the updated summary to verify that the layers have been frozen.\n",
        "base_model.summary()"
      ],
      "metadata": {
        "id": "pCQXH4bwS6h5",
        "colab": {
          "base_uri": "https://localhost:8080/"
        },
        "outputId": "7f3a0f78-b064-49eb-b5d2-ab07564b7040"
      },
      "execution_count": 7,
      "outputs": [
        {
          "output_type": "stream",
          "name": "stdout",
          "text": [
            "Model: \"vgg16\"\n",
            "_________________________________________________________________\n",
            " Layer (type)                Output Shape              Param #   \n",
            "=================================================================\n",
            " input_1 (InputLayer)        [(None, 32, 32, 3)]       0         \n",
            "                                                                 \n",
            " block1_conv1 (Conv2D)       (None, 32, 32, 64)        1792      \n",
            "                                                                 \n",
            " block1_conv2 (Conv2D)       (None, 32, 32, 64)        36928     \n",
            "                                                                 \n",
            " block1_pool (MaxPooling2D)  (None, 16, 16, 64)        0         \n",
            "                                                                 \n",
            " block2_conv1 (Conv2D)       (None, 16, 16, 128)       73856     \n",
            "                                                                 \n",
            " block2_conv2 (Conv2D)       (None, 16, 16, 128)       147584    \n",
            "                                                                 \n",
            " block2_pool (MaxPooling2D)  (None, 8, 8, 128)         0         \n",
            "                                                                 \n",
            " block3_conv1 (Conv2D)       (None, 8, 8, 256)         295168    \n",
            "                                                                 \n",
            " block3_conv2 (Conv2D)       (None, 8, 8, 256)         590080    \n",
            "                                                                 \n",
            " block3_conv3 (Conv2D)       (None, 8, 8, 256)         590080    \n",
            "                                                                 \n",
            " block3_pool (MaxPooling2D)  (None, 4, 4, 256)         0         \n",
            "                                                                 \n",
            " block4_conv1 (Conv2D)       (None, 4, 4, 512)         1180160   \n",
            "                                                                 \n",
            " block4_conv2 (Conv2D)       (None, 4, 4, 512)         2359808   \n",
            "                                                                 \n",
            " block4_conv3 (Conv2D)       (None, 4, 4, 512)         2359808   \n",
            "                                                                 \n",
            " block4_pool (MaxPooling2D)  (None, 2, 2, 512)         0         \n",
            "                                                                 \n",
            " block5_conv1 (Conv2D)       (None, 2, 2, 512)         2359808   \n",
            "                                                                 \n",
            " block5_conv2 (Conv2D)       (None, 2, 2, 512)         2359808   \n",
            "                                                                 \n",
            " block5_conv3 (Conv2D)       (None, 2, 2, 512)         2359808   \n",
            "                                                                 \n",
            " block5_pool (MaxPooling2D)  (None, 1, 1, 512)         0         \n",
            "                                                                 \n",
            "=================================================================\n",
            "Total params: 14714688 (56.13 MB)\n",
            "Trainable params: 0 (0.00 Byte)\n",
            "Non-trainable params: 14714688 (56.13 MB)\n",
            "_________________________________________________________________\n"
          ]
        }
      ]
    },
    {
      "cell_type": "markdown",
      "source": [
        "Now, we'll add some trainable layers to the base model.\n",
        "\n",
        "1. Using the base model, add a [GlobalAveragePooling2D](https://keras.io/api/layers/pooling_layers/global_average_pooling2d/) layer, followed by a [Dense](https://keras.io/api/layers/core_layers/dense/) layer of length 256 with ReLU activation. Finally, add a classification layer with 10 units, corresponding to the 10 CIFAR-10 classes, with softmax activation.\n",
        "2. Create a Keras [Model](https://keras.io/api/models/model/) that takes in approproate inputs and outputs."
      ],
      "metadata": {
        "id": "MAnyLR6btWqd"
      }
    },
    {
      "cell_type": "code",
      "source": [
        "# Add a global average pooling layer\n",
        "base_output = base_model.output\n",
        "x = GlobalAveragePooling2D()(base_output)"
      ],
      "metadata": {
        "id": "GiD0CiSvTCRG"
      },
      "execution_count": 8,
      "outputs": []
    },
    {
      "cell_type": "code",
      "source": [
        "# Add a fully connected layer with 256 units and ReLU activation\n",
        "x = Dense(256, activation='relu')(x)"
      ],
      "metadata": {
        "id": "fKbX1RK4TCB9"
      },
      "execution_count": 9,
      "outputs": []
    },
    {
      "cell_type": "code",
      "source": [
        "# Add the final classification layer with 10 units (for CIFAR-10 classes) and softmax activation\n",
        "predictions = Dense(10, activation='softmax')(x)"
      ],
      "metadata": {
        "id": "yEYDagVQTB33"
      },
      "execution_count": 10,
      "outputs": []
    },
    {
      "cell_type": "code",
      "source": [
        "# Create the fine-tuned model\n",
        "model = Model(inputs=base_model.input, outputs=predictions)\n",
        "model.summary() # Display the new model architecture"
      ],
      "metadata": {
        "id": "A-op7iObo8io",
        "colab": {
          "base_uri": "https://localhost:8080/"
        },
        "outputId": "5fed4764-8ffc-42ad-ad7d-70b4bbdce3a6"
      },
      "execution_count": 11,
      "outputs": [
        {
          "output_type": "stream",
          "name": "stdout",
          "text": [
            "Model: \"model\"\n",
            "_________________________________________________________________\n",
            " Layer (type)                Output Shape              Param #   \n",
            "=================================================================\n",
            " input_1 (InputLayer)        [(None, 32, 32, 3)]       0         \n",
            "                                                                 \n",
            " block1_conv1 (Conv2D)       (None, 32, 32, 64)        1792      \n",
            "                                                                 \n",
            " block1_conv2 (Conv2D)       (None, 32, 32, 64)        36928     \n",
            "                                                                 \n",
            " block1_pool (MaxPooling2D)  (None, 16, 16, 64)        0         \n",
            "                                                                 \n",
            " block2_conv1 (Conv2D)       (None, 16, 16, 128)       73856     \n",
            "                                                                 \n",
            " block2_conv2 (Conv2D)       (None, 16, 16, 128)       147584    \n",
            "                                                                 \n",
            " block2_pool (MaxPooling2D)  (None, 8, 8, 128)         0         \n",
            "                                                                 \n",
            " block3_conv1 (Conv2D)       (None, 8, 8, 256)         295168    \n",
            "                                                                 \n",
            " block3_conv2 (Conv2D)       (None, 8, 8, 256)         590080    \n",
            "                                                                 \n",
            " block3_conv3 (Conv2D)       (None, 8, 8, 256)         590080    \n",
            "                                                                 \n",
            " block3_pool (MaxPooling2D)  (None, 4, 4, 256)         0         \n",
            "                                                                 \n",
            " block4_conv1 (Conv2D)       (None, 4, 4, 512)         1180160   \n",
            "                                                                 \n",
            " block4_conv2 (Conv2D)       (None, 4, 4, 512)         2359808   \n",
            "                                                                 \n",
            " block4_conv3 (Conv2D)       (None, 4, 4, 512)         2359808   \n",
            "                                                                 \n",
            " block4_pool (MaxPooling2D)  (None, 2, 2, 512)         0         \n",
            "                                                                 \n",
            " block5_conv1 (Conv2D)       (None, 2, 2, 512)         2359808   \n",
            "                                                                 \n",
            " block5_conv2 (Conv2D)       (None, 2, 2, 512)         2359808   \n",
            "                                                                 \n",
            " block5_conv3 (Conv2D)       (None, 2, 2, 512)         2359808   \n",
            "                                                                 \n",
            " block5_pool (MaxPooling2D)  (None, 1, 1, 512)         0         \n",
            "                                                                 \n",
            " global_average_pooling2d (  (None, 512)               0         \n",
            " GlobalAveragePooling2D)                                         \n",
            "                                                                 \n",
            " dense (Dense)               (None, 256)               131328    \n",
            "                                                                 \n",
            " dense_1 (Dense)             (None, 10)                2570      \n",
            "                                                                 \n",
            "=================================================================\n",
            "Total params: 14848586 (56.64 MB)\n",
            "Trainable params: 133898 (523.04 KB)\n",
            "Non-trainable params: 14714688 (56.13 MB)\n",
            "_________________________________________________________________\n"
          ]
        }
      ]
    },
    {
      "cell_type": "markdown",
      "source": [
        "With your model complete it's time to train it and assess its performance.\n",
        "\n",
        "1. Compile your model using an appropriate loss function. Feel free to play around with the optimizer, but a good starting optimizer might be Adam with a learning rate of 0.001.\n",
        "2. Fit your model on the training data. Use the validation data to print the accuracy for each epoch. Try training for 10 epochs. Note, training can take a few hours so go ahead and grab a cup of coffee.\n",
        "\n",
        "**Optional**: See if you can implement an [Early Stopping](https://keras.io/api/callbacks/early_stopping/) criteria as a callback function."
      ],
      "metadata": {
        "id": "jjgG_9IMwuLS"
      }
    },
    {
      "cell_type": "code",
      "source": [
        "# Compile the model\n",
        "model.compile(optimizer=tf.keras.optimizers.Adam(learning_rate=0.001), loss='categorical_crossentropy', metrics=['accuracy'])"
      ],
      "metadata": {
        "id": "xTFBXCe6TG5m"
      },
      "execution_count": 12,
      "outputs": []
    },
    {
      "cell_type": "code",
      "source": [
        "# Train the model\n",
        "\n",
        "# Import EarlyStopping\n",
        "from tensorflow.keras.callbacks import EarlyStopping\n",
        "\n",
        "# Create the early stopping criteria\n",
        "early_stopping = EarlyStopping(monitor='val_loss', patience=3, verbose=1, mode='min', restore_best_weights=True)\n",
        "\n",
        "# Fit the model on the CIFAR10 data.\n",
        "history = model.fit(x_train, y_train, validation_data=(x_val, y_val), epochs=10, callbacks=[early_stopping], batch_size=32, verbose=1)"
      ],
      "metadata": {
        "id": "M5JnXlGPpkDg",
        "colab": {
          "base_uri": "https://localhost:8080/"
        },
        "outputId": "7ac0de37-f596-4c27-b1f3-e74f3904e9f8"
      },
      "execution_count": null,
      "outputs": [
        {
          "output_type": "stream",
          "name": "stdout",
          "text": [
            "Epoch 1/10\n",
            "1407/1407 [==============================] - 546s 387ms/step - loss: 1.3599 - accuracy: 0.5240 - val_loss: 1.2325 - val_accuracy: 0.5700\n",
            "Epoch 2/10\n",
            "1407/1407 [==============================] - 542s 385ms/step - loss: 1.1742 - accuracy: 0.5885 - val_loss: 1.1700 - val_accuracy: 0.5930\n",
            "Epoch 3/10\n",
            "1407/1407 [==============================] - 544s 387ms/step - loss: 1.1095 - accuracy: 0.6111 - val_loss: 1.1411 - val_accuracy: 0.5932\n",
            "Epoch 4/10\n",
            "1407/1407 [==============================] - 542s 385ms/step - loss: 1.0587 - accuracy: 0.6296 - val_loss: 1.1310 - val_accuracy: 0.6070\n",
            "Epoch 5/10\n",
            "1407/1407 [==============================] - 547s 389ms/step - loss: 1.0180 - accuracy: 0.6444 - val_loss: 1.0998 - val_accuracy: 0.6150\n",
            "Epoch 6/10\n",
            "1407/1407 [==============================] - 545s 388ms/step - loss: 0.9787 - accuracy: 0.6569 - val_loss: 1.0912 - val_accuracy: 0.6230\n",
            "Epoch 7/10\n",
            "1407/1407 [==============================] - 545s 388ms/step - loss: 0.9425 - accuracy: 0.6704 - val_loss: 1.1061 - val_accuracy: 0.6148\n",
            "Epoch 8/10\n",
            "1407/1407 [==============================] - 544s 386ms/step - loss: 0.9098 - accuracy: 0.6795 - val_loss: 1.0894 - val_accuracy: 0.6228\n",
            "Epoch 9/10\n",
            "1407/1407 [==============================] - 544s 387ms/step - loss: 0.8763 - accuracy: 0.6912 - val_loss: 1.1169 - val_accuracy: 0.6120\n",
            "Epoch 10/10\n",
            " 433/1407 [========>.....................] - ETA: 5:17 - loss: 0.8500 - accuracy: 0.7034"
          ]
        }
      ]
    },
    {
      "cell_type": "markdown",
      "source": [
        "With your model trained, it's time to assess how well it performs on the test data.\n",
        "\n",
        "1. Use your trained model to calculate the accuracy on the test set. Is the model performance better than random?\n",
        "2. Experiment! See if you can tweak your model to improve performance.  "
      ],
      "metadata": {
        "id": "N8-T6EnmypvW"
      }
    },
    {
      "cell_type": "code",
      "source": [
        "# Evaluate the model on the test set\n",
        "test_loss, test_accuracy = model.evaluate(x_test, y_test, verbose=1)\n",
        "print(f\"Test accuracy: {test_accuracy*100:.2f}%\")"
      ],
      "metadata": {
        "id": "auYNYD0JpnaX",
        "colab": {
          "base_uri": "https://localhost:8080/"
        },
        "outputId": "9519bbe3-7cb0-47a6-c9ea-d09e4c5577c4"
      },
      "execution_count": 14,
      "outputs": [
        {
          "metadata": {
            "tags": null
          },
          "name": "stdout",
          "output_type": "stream",
          "text": [
            "313/313 [==============================] - 74s 236ms/step - loss: 1.1216 - accuracy: 0.6087\n",
            "Test accuracy: 60.87%\n"
          ]
        }
      ]
    },
    {
      "cell_type": "markdown",
      "source": [
        "# **Experiments:**\n",
        "\n",
        "Below this section are the various experiments that I performed to try and achieve a better performance than a test accuracy of **60.87%**.  \n",
        "1. First, I add in **regularization** to test its effect.  After determining that it reduced initial accuracy, but improved generalization, I decided to keep it within my model for now. This model only performed at: **53.74%**  \n",
        "2. Now that regularization has been added in, I conducted a small **random search** over a few hyperparameters: regularization rates, optimizer learning rates, and lastly the number of units in the Dense layer. Although the search identified a configuration of hyperparemeters that exceeded the previous regularization model, its results were still below base level performance.  The best model from the search had a Test Accuracy of **60.04%**.\n",
        "3. After performing this hyperparameter search and not recieiving higher accuracy I decide to revert back to the original model and add additional layer of **feature extraction** that could be fine-tuned to possibly achieve a higher score.  From this model, I was able to achieve a higher accuracy score of: **61.54%**\n",
        "\n",
        "# **Conclusion:**\n",
        "\n",
        "After achieving a higher Test Accuracy score through the inclusion of the additional feature extraction layers I have a few additional areas I'd like to explore.  However, due to conducting these experiments in a free Google colab environment, I have decided to continue them elsewhere as to not have to deal with session timeout.  During the training of the convolutional model and the base model there were indications that the model tended to overfit on the training data.  For this there are multiple avenues to explore to expand generalization.\n",
        "\n",
        "# **Additional Ideas:**\n",
        "1. Introduce Dropout layers and rates to see if we can mitigate some of the overfitting.\n",
        "2. Dataset Augmentation in order to increase the size and variance in our training data in order to improve generalization.\n",
        "3. Conducting another hyperparemeter search over whichever model architecture I have identified as most effective."
      ],
      "metadata": {
        "id": "FkdSvQIChPRZ"
      }
    },
    {
      "cell_type": "markdown",
      "source": [
        "**Experiment: *Adding Additional Feature Extraction***"
      ],
      "metadata": {
        "id": "FVuOK3iJ0kgP"
      }
    },
    {
      "cell_type": "code",
      "source": [
        "# Experiment: Adding Convolutional layers before the dense to further extract features.\n",
        "from keras.models import Model\n",
        "from keras.layers import Conv2D, BatchNormalization, ReLU, GlobalAveragePooling2D, Dense\n",
        "from keras.regularizers import l2\n",
        "\n",
        "# Grab the base model as before\n",
        "base_model_output = base_model.output\n",
        "\n",
        "# Add a new Conv2D layer\n",
        "x = Conv2D(filters=512, kernel_size=(3, 3), padding='same')(base_model_output)\n",
        "x = BatchNormalization()(x)\n",
        "x = ReLU()(x)\n",
        "\n",
        "# Continue with the global average pooling and dense layers as before\n",
        "x = GlobalAveragePooling2D()(x)\n",
        "x = Dense(256, activation='relu')(x)  # Existing Dense layer\n",
        "predictions = Dense(10, activation='softmax')(x)  # Existing output layer\n",
        "\n",
        "# Create the new model\n",
        "model_with_conv = Model(inputs=base_model.input, outputs=predictions)\n",
        "\n",
        "# Compile and fit the model as before\n",
        "model_with_conv.compile(optimizer='adam',\n",
        "                        loss='categorical_crossentropy',\n",
        "                        metrics=['accuracy'])\n"
      ],
      "metadata": {
        "id": "PpyPorT9HqkV"
      },
      "execution_count": 8,
      "outputs": []
    },
    {
      "cell_type": "code",
      "source": [
        "# Fit the model to the training data.\n",
        "# Import EarlyStopping\n",
        "from tensorflow.keras.callbacks import EarlyStopping\n",
        "\n",
        "# Create the early stopping criteria\n",
        "early_stopping = EarlyStopping(monitor='val_loss', patience=3, verbose=1, mode='min', restore_best_weights=True)\n",
        "\n",
        "# Fit the model on the CIFAR10 data.\n",
        "history = model_with_conv.fit(x_train, y_train, validation_data=(x_val, y_val), epochs=10, callbacks=[early_stopping], batch_size=32, verbose=1)"
      ],
      "metadata": {
        "colab": {
          "base_uri": "https://localhost:8080/"
        },
        "id": "SW7Mmerx_Rm2",
        "outputId": "f0f4d4e7-1e3b-457a-d702-90cb42cbbee8"
      },
      "execution_count": 9,
      "outputs": [
        {
          "output_type": "stream",
          "name": "stdout",
          "text": [
            "Epoch 1/10\n",
            "1407/1407 [==============================] - 734s 520ms/step - loss: 1.3269 - accuracy: 0.5377 - val_loss: 1.3116 - val_accuracy: 0.5514\n",
            "Epoch 2/10\n",
            "1407/1407 [==============================] - 739s 526ms/step - loss: 1.1549 - accuracy: 0.5953 - val_loss: 1.1998 - val_accuracy: 0.5770\n",
            "Epoch 3/10\n",
            "1407/1407 [==============================] - 722s 513ms/step - loss: 1.0780 - accuracy: 0.6199 - val_loss: 1.1480 - val_accuracy: 0.5960\n",
            "Epoch 4/10\n",
            "1407/1407 [==============================] - 701s 498ms/step - loss: 1.0189 - accuracy: 0.6423 - val_loss: 1.1255 - val_accuracy: 0.6138\n",
            "Epoch 5/10\n",
            "1407/1407 [==============================] - 711s 506ms/step - loss: 0.9597 - accuracy: 0.6618 - val_loss: 1.1120 - val_accuracy: 0.6144\n",
            "Epoch 6/10\n",
            "1407/1407 [==============================] - 732s 520ms/step - loss: 0.9028 - accuracy: 0.6804 - val_loss: 1.1274 - val_accuracy: 0.6104\n",
            "Epoch 7/10\n",
            "1407/1407 [==============================] - 714s 507ms/step - loss: 0.8552 - accuracy: 0.6952 - val_loss: 1.0930 - val_accuracy: 0.6226\n",
            "Epoch 8/10\n",
            "1407/1407 [==============================] - 740s 526ms/step - loss: 0.8000 - accuracy: 0.7141 - val_loss: 1.1585 - val_accuracy: 0.6110\n",
            "Epoch 9/10\n",
            "1407/1407 [==============================] - 719s 511ms/step - loss: 0.7491 - accuracy: 0.7308 - val_loss: 1.2132 - val_accuracy: 0.6114\n",
            "Epoch 10/10\n",
            "1407/1407 [==============================] - ETA: 0s - loss: 0.7037 - accuracy: 0.7477Restoring model weights from the end of the best epoch: 7.\n",
            "1407/1407 [==============================] - 750s 533ms/step - loss: 0.7037 - accuracy: 0.7477 - val_loss: 1.1828 - val_accuracy: 0.6220\n",
            "Epoch 10: early stopping\n"
          ]
        }
      ]
    },
    {
      "cell_type": "code",
      "source": [
        "# Evaluate the model on the test set\n",
        "test_loss_conv, test_accuracy_conv = model_with_conv.evaluate(x_test, y_test, verbose=1)\n",
        "print(f\"Test Accuracy: {test_accuracy_conv*100:.2f}%\")"
      ],
      "metadata": {
        "colab": {
          "base_uri": "https://localhost:8080/"
        },
        "id": "-FaviXS1CBNv",
        "outputId": "cb493ae9-3af2-4528-adb3-e1fba3902c64"
      },
      "execution_count": 12,
      "outputs": [
        {
          "output_type": "stream",
          "name": "stdout",
          "text": [
            "313/313 [==============================] - 123s 393ms/step - loss: 1.1231 - accuracy: 0.6154\n",
            "Test Accuracy: 61.54%\n"
          ]
        }
      ]
    },
    {
      "cell_type": "markdown",
      "source": [
        "**Experiment: *Regularization***"
      ],
      "metadata": {
        "id": "Upn3Xp6nPE03"
      }
    },
    {
      "cell_type": "code",
      "source": [
        "# Experiment: Testing the effect of introducing regularization.\n",
        "from tensorflow.keras.regularizers import l2\n",
        "\n",
        "# Construct the model\n",
        "base_model_output = base_model.output\n",
        "x = GlobalAveragePooling2D()(base_model_output)\n",
        "x = Dense(256, activation='relu', kernel_regularizer=l2(0.01))(x) # Added a Dense layer with L2 regularization\n",
        "predictions = Dense(10, activation='softmax')(x)\n",
        "\n",
        "# Create the new model with regularization\n",
        "model_with_reg = Model(inputs=base_model.input, outputs=predictions)\n",
        "\n",
        "# Compile and fit the model as before\n",
        "model_with_reg.compile(optimizer=Adam(learning_rate=0.001),\n",
        "                       loss='categorical_crossentropy',\n",
        "                       metrics=['accuracy'])\n",
        "\n",
        "# Fit the new model.\n",
        "history_with_reg = model_with_reg.fit(x_train, y_train,\n",
        "                                      epochs=10,\n",
        "                                      batch_size=32,\n",
        "                                      validation_data=(x_val, y_val),\n",
        "                                      callbacks=[EarlyStopping(monitor='val_loss', patience=3, verbose=1)],\n",
        "                                      verbose=1)"
      ],
      "metadata": {
        "colab": {
          "base_uri": "https://localhost:8080/"
        },
        "id": "7IJPO9kCOmXY",
        "outputId": "24547ab4-547a-4bff-b5f2-e2dc987ab0be"
      },
      "execution_count": 15,
      "outputs": [
        {
          "output_type": "stream",
          "name": "stdout",
          "text": [
            "Epoch 1/10\n",
            "1407/1407 [==============================] - 369s 262ms/step - loss: 1.7757 - accuracy: 0.4846 - val_loss: 1.5175 - val_accuracy: 0.5194\n",
            "Epoch 2/10\n",
            "1407/1407 [==============================] - 375s 267ms/step - loss: 1.5383 - accuracy: 0.5132 - val_loss: 1.5145 - val_accuracy: 0.5186\n",
            "Epoch 3/10\n",
            "1407/1407 [==============================] - 377s 268ms/step - loss: 1.5083 - accuracy: 0.5209 - val_loss: 1.4615 - val_accuracy: 0.5392\n",
            "Epoch 4/10\n",
            "1407/1407 [==============================] - 376s 267ms/step - loss: 1.4989 - accuracy: 0.5216 - val_loss: 1.4944 - val_accuracy: 0.5246\n",
            "Epoch 5/10\n",
            "1407/1407 [==============================] - 381s 271ms/step - loss: 1.4799 - accuracy: 0.5283 - val_loss: 1.4360 - val_accuracy: 0.5454\n",
            "Epoch 6/10\n",
            "1407/1407 [==============================] - 377s 268ms/step - loss: 1.4618 - accuracy: 0.5334 - val_loss: 1.4234 - val_accuracy: 0.5410\n",
            "Epoch 7/10\n",
            "1407/1407 [==============================] - 384s 273ms/step - loss: 1.4505 - accuracy: 0.5401 - val_loss: 1.4337 - val_accuracy: 0.5350\n",
            "Epoch 8/10\n",
            "1407/1407 [==============================] - 388s 276ms/step - loss: 1.4408 - accuracy: 0.5396 - val_loss: 1.4093 - val_accuracy: 0.5440\n",
            "Epoch 9/10\n",
            "1407/1407 [==============================] - 379s 269ms/step - loss: 1.4334 - accuracy: 0.5432 - val_loss: 1.4452 - val_accuracy: 0.5362\n",
            "Epoch 10/10\n",
            "1407/1407 [==============================] - 377s 268ms/step - loss: 1.4196 - accuracy: 0.5494 - val_loss: 1.4088 - val_accuracy: 0.5438\n"
          ]
        }
      ]
    },
    {
      "cell_type": "code",
      "source": [
        "# Evaluate the new model's accuracy.\n",
        "test_loss_reg, test_accuracy_reg = model_with_reg.evaluate(x_test, y_test, verbose=1)\n",
        "print(f\"Test accuracy: {test_accuracy_reg*100:.2f}%\")"
      ],
      "metadata": {
        "colab": {
          "base_uri": "https://localhost:8080/"
        },
        "id": "o1pMNrYSQNJ_",
        "outputId": "313a0d24-29ed-4ce8-edcb-e378cffacbeb"
      },
      "execution_count": 16,
      "outputs": [
        {
          "output_type": "stream",
          "name": "stdout",
          "text": [
            "313/313 [==============================] - 75s 240ms/step - loss: 1.4404 - accuracy: 0.5374\n",
            "Test accuracy: 53.74%\n"
          ]
        }
      ]
    },
    {
      "cell_type": "markdown",
      "source": [
        "**Hyperparameter Search:** regularization rates, learning rates, # of units in Dense layer"
      ],
      "metadata": {
        "id": "kX5kw0MKP3nR"
      }
    },
    {
      "cell_type": "code",
      "source": [
        "pip install keras-tuner"
      ],
      "metadata": {
        "colab": {
          "base_uri": "https://localhost:8080/"
        },
        "id": "PTIfuh2TEd6C",
        "outputId": "621037b2-970a-4e65-8604-ceb73ea65d15"
      },
      "execution_count": 17,
      "outputs": [
        {
          "output_type": "stream",
          "name": "stdout",
          "text": [
            "Collecting keras-tuner\n",
            "  Downloading keras_tuner-1.4.6-py3-none-any.whl (128 kB)\n",
            "\u001b[2K     \u001b[90m━━━━━━━━━━━━━━━━━━━━━━━━━━━━━━━━━━━━━━━━\u001b[0m \u001b[32m128.9/128.9 kB\u001b[0m \u001b[31m1.3 MB/s\u001b[0m eta \u001b[36m0:00:00\u001b[0m\n",
            "\u001b[?25hRequirement already satisfied: keras in /usr/local/lib/python3.10/dist-packages (from keras-tuner) (2.15.0)\n",
            "Requirement already satisfied: packaging in /usr/local/lib/python3.10/dist-packages (from keras-tuner) (23.2)\n",
            "Requirement already satisfied: requests in /usr/local/lib/python3.10/dist-packages (from keras-tuner) (2.31.0)\n",
            "Collecting kt-legacy (from keras-tuner)\n",
            "  Downloading kt_legacy-1.0.5-py3-none-any.whl (9.6 kB)\n",
            "Requirement already satisfied: charset-normalizer<4,>=2 in /usr/local/lib/python3.10/dist-packages (from requests->keras-tuner) (3.3.2)\n",
            "Requirement already satisfied: idna<4,>=2.5 in /usr/local/lib/python3.10/dist-packages (from requests->keras-tuner) (3.6)\n",
            "Requirement already satisfied: urllib3<3,>=1.21.1 in /usr/local/lib/python3.10/dist-packages (from requests->keras-tuner) (2.0.7)\n",
            "Requirement already satisfied: certifi>=2017.4.17 in /usr/local/lib/python3.10/dist-packages (from requests->keras-tuner) (2024.2.2)\n",
            "Installing collected packages: kt-legacy, keras-tuner\n",
            "Successfully installed keras-tuner-1.4.6 kt-legacy-1.0.5\n"
          ]
        }
      ]
    },
    {
      "cell_type": "code",
      "source": [
        "from keras_tuner import HyperModel\n",
        "\n",
        "# Class of HyperModel to be tuned\n",
        "class MyHyperModel(HyperModel):\n",
        "    def __init__(self, base_model):\n",
        "        self.base_model = base_model\n",
        "\n",
        "    def build(self, hp):\n",
        "        # Freeze the base model\n",
        "        for layer in self.base_model.layers:\n",
        "            layer.trainable = False\n",
        "\n",
        "        # Start model definition\n",
        "        base_model_output = self.base_model.output\n",
        "        x = GlobalAveragePooling2D()(base_model_output)\n",
        "\n",
        "        # Hyperparameters\n",
        "        x = Dense(units=hp.Int('units', min_value=256, max_value=1024, step=128),\n",
        "                  activation='relu',\n",
        "                  kernel_regularizer=l2(hp.Float('l2', min_value=1e-4, max_value=1e-2, sampling='LOG')))(x)\n",
        "        outputs = Dense(10, activation='softmax')(x)\n",
        "\n",
        "        model = Model(inputs=self.base_model.input, outputs=outputs)\n",
        "\n",
        "        # Compile model\n",
        "        model.compile(optimizer=Adam(hp.Float('learning_rate', min_value=1e-4, max_value=1e-2, sampling='LOG')),\n",
        "                      loss='categorical_crossentropy',\n",
        "                      metrics=['accuracy'])\n",
        "        return model"
      ],
      "metadata": {
        "id": "Gh81AvhQKznp"
      },
      "execution_count": 19,
      "outputs": []
    },
    {
      "cell_type": "code",
      "source": [
        "# Experiment: Conduct a small random search over Dense layer depth, the optimizer learning rate, and the regularization rate.\n",
        "from keras_tuner import RandomSearch\n",
        "\n",
        "# Instantiate the hypermodel\n",
        "hypermodel = MyHyperModel(base_model=VGG16(include_top=False, weights='imagenet', input_shape=(32, 32, 3)))\n",
        "\n",
        "# Initialize the tuner\n",
        "tuner = RandomSearch(\n",
        "    hypermodel,\n",
        "    objective='val_accuracy',\n",
        "    max_trials=6,  # Set to a reasonable number to limit search time\n",
        "    executions_per_trial=1,\n",
        "    directory='my_dir',\n",
        "    project_name='keras_tuner_vgg16_cifar10'\n",
        ")\n",
        "\n",
        "# Perform the hyperparameter search\n",
        "tuner.search(x_train, y_train,\n",
        "             epochs=10,\n",
        "             validation_data=(x_val, y_val),\n",
        "             callbacks=[EarlyStopping(monitor='val_loss', patience=3, verbose=1)])"
      ],
      "metadata": {
        "id": "VuRl3Zq7LKm4"
      },
      "execution_count": null,
      "outputs": []
    },
    {
      "cell_type": "code",
      "source": [
        "# Get the optimal hyperparameters\n",
        "best_hps = tuner.get_best_hyperparameters(num_trials=1)[0]\n",
        "\n",
        "print(f\"\"\"\n",
        "The hyperparameter search is complete. The optimal number of units in the first densely-connected\n",
        "layer is {best_hps.get('units')} and the optimal learning rate for the optimizer\n",
        "is {best_hps.get('learning_rate')}. The optimal L2 regularization strength is {best_hps.get('l2')}.\n",
        "\"\"\")\n",
        "\n",
        "# Get the best model and evaluate accuracy.\n",
        "best_model = tuner.get_best_models(num_models=1)[0]\n",
        "test_loss_best, test_accuracy_best = best_model.evaluate(x_test, y_test)\n",
        "print(f\"Test Loss: {test_loss_best}, Test Accuracy: {test_accuracy_best}\")"
      ],
      "metadata": {
        "colab": {
          "base_uri": "https://localhost:8080/"
        },
        "id": "LmnBhgNBubMD",
        "outputId": "15431070-5675-4376-e67e-8eeb9af586ae"
      },
      "execution_count": 21,
      "outputs": [
        {
          "output_type": "stream",
          "name": "stdout",
          "text": [
            "\n",
            "The hyperparameter search is complete. The optimal number of units in the first densely-connected\n",
            "layer is 896 and the optimal learning rate for the optimizer\n",
            "is 0.001490488195996845. The optimal L2 regularization strength is 0.00040995319944661575.\n",
            "\n",
            "313/313 [==============================] - 77s 246ms/step - loss: 1.2706 - accuracy: 0.6005\n",
            "Test Loss: 1.2706390619277954, Test Accuracy: 0.6004999876022339\n"
          ]
        }
      ]
    },
    {
      "cell_type": "markdown",
      "source": [
        "**Additional Analysis:**\n",
        "\n",
        "After conducting this search, we are able to see that:\n",
        "* None of the configurations exceeded the initial model's performance within 10 epochs of training.\n",
        "* Although this search didn't exceed the base model, the configuration with the most units in the dense layer performed the best."
      ],
      "metadata": {
        "id": "BE6OvIDSjqv5"
      }
    },
    {
      "cell_type": "markdown",
      "source": [
        "\n",
        "**Other ideas:**\n",
        "* different optimizers (SGD, etc.)\n",
        "* adding conv layers"
      ],
      "metadata": {
        "id": "Y0KhAku3wQZU"
      }
    },
    {
      "cell_type": "markdown",
      "source": [
        "**SGD Optimizer**"
      ],
      "metadata": {
        "id": "LNc8q2vFQejy"
      }
    },
    {
      "cell_type": "code",
      "source": [
        "from tensorflow.keras.optimizers import SGD\n",
        "\n",
        "# Construct the model\n",
        "base_model_output = base_model.output\n",
        "x = GlobalAveragePooling2D()(base_model_output)\n",
        "x = Dense(256, activation='relu')(x)\n",
        "predictions = Dense(10, activation='softmax')(x)\n",
        "\n",
        "# Create the new model\n",
        "model_with_sgd = Model(inputs=base_model.input, outputs=predictions)\n",
        "\n",
        "# Compile the model using SGD as the optimizer\n",
        "model_with_sgd.compile(optimizer=SGD(learning_rate=0.001, momentum=0.9),\n",
        "                       loss='categorical_crossentropy',\n",
        "                       metrics=['accuracy'])\n",
        "\n",
        "# Fit the new model\n",
        "history_with_sgd = model_with_sgd.fit(x_train, y_train,\n",
        "                                      epochs=10,\n",
        "                                      batch_size=32,\n",
        "                                      validation_data=(x_val, y_val),\n",
        "                                      callbacks=[EarlyStopping(monitor='val_loss', patience=3, verbose=1)],\n",
        "                                      verbose=1)"
      ],
      "metadata": {
        "colab": {
          "base_uri": "https://localhost:8080/"
        },
        "id": "NxymR7pjwzn8",
        "outputId": "b1313b32-185f-4e64-cbb0-71700d062c3f"
      },
      "execution_count": 25,
      "outputs": [
        {
          "output_type": "stream",
          "name": "stdout",
          "text": [
            "Epoch 1/10\n",
            "1407/1407 [==============================] - 393s 279ms/step - loss: 1.7271 - accuracy: 0.4062 - val_loss: 1.4852 - val_accuracy: 0.4924\n",
            "Epoch 2/10\n",
            "1407/1407 [==============================] - 383s 272ms/step - loss: 1.4374 - accuracy: 0.5010 - val_loss: 1.3868 - val_accuracy: 0.5206\n",
            "Epoch 3/10\n",
            "1407/1407 [==============================] - 378s 269ms/step - loss: 1.3605 - accuracy: 0.5293 - val_loss: 1.3366 - val_accuracy: 0.5288\n",
            "Epoch 4/10\n",
            "1407/1407 [==============================] - 378s 269ms/step - loss: 1.3143 - accuracy: 0.5429 - val_loss: 1.3053 - val_accuracy: 0.5424\n",
            "Epoch 5/10\n",
            "1407/1407 [==============================] - 378s 268ms/step - loss: 1.2817 - accuracy: 0.5528 - val_loss: 1.2694 - val_accuracy: 0.5558\n",
            "Epoch 6/10\n",
            "1407/1407 [==============================] - 378s 268ms/step - loss: 1.2585 - accuracy: 0.5629 - val_loss: 1.2586 - val_accuracy: 0.5608\n",
            "Epoch 7/10\n",
            "1407/1407 [==============================] - 378s 269ms/step - loss: 1.2382 - accuracy: 0.5694 - val_loss: 1.2424 - val_accuracy: 0.5662\n",
            "Epoch 8/10\n",
            "1407/1407 [==============================] - 379s 270ms/step - loss: 1.2215 - accuracy: 0.5753 - val_loss: 1.2138 - val_accuracy: 0.5760\n",
            "Epoch 9/10\n",
            "1407/1407 [==============================] - 378s 269ms/step - loss: 1.2078 - accuracy: 0.5800 - val_loss: 1.2412 - val_accuracy: 0.5670\n",
            "Epoch 10/10\n",
            "1407/1407 [==============================] - 378s 269ms/step - loss: 1.1943 - accuracy: 0.5843 - val_loss: 1.2065 - val_accuracy: 0.5802\n"
          ]
        }
      ]
    },
    {
      "cell_type": "code",
      "source": [
        "# Evaluate the new model's accuracy.\n",
        "test_loss_sgd, test_accuracy_sgd = model_with_sgd.evaluate(x_test, y_test, verbose=1)\n",
        "print(f\"Test accuracy: {test_accuracy_sgd*100:.2f}%\")"
      ],
      "metadata": {
        "id": "X28T0IoZyY1m"
      },
      "execution_count": null,
      "outputs": []
    }
  ]
}